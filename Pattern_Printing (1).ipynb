{
  "cells": [
    {
      "cell_type": "markdown",
      "id": "c7437cbf-efbd-4f9b-be37-5d15c374e63f",
      "metadata": {
        "id": "c7437cbf-efbd-4f9b-be37-5d15c374e63f"
      },
      "source": [
        "# Python Pattern Printing assignment solution"
      ]
    },
    {
      "cell_type": "markdown",
      "id": "955fc2a5-10f7-446e-8254-2db641d67f60",
      "metadata": {
        "id": "955fc2a5-10f7-446e-8254-2db641d67f60"
      },
      "source": [
        "**Question 1:Right-Angled Star Triangle**"
      ]
    },
    {
      "cell_type": "code",
      "execution_count": 3,
      "id": "c458cb23-60ef-4ea3-940b-12457c40f9f7",
      "metadata": {
        "id": "c458cb23-60ef-4ea3-940b-12457c40f9f7"
      },
      "outputs": [],
      "source": [
        "n = 6"
      ]
    },
    {
      "cell_type": "raw",
      "id": "744a2be6-74bf-4632-ac9f-19cba3f15e2b",
      "metadata": {
        "id": "744a2be6-74bf-4632-ac9f-19cba3f15e2b"
      },
      "source": [
        "*\n",
        "**\n",
        "***\n",
        "****"
      ]
    },
    {
      "cell_type": "code",
      "execution_count": 4,
      "id": "f4c2ab5f-c678-454b-8ef1-6f050ca3844c",
      "metadata": {
        "colab": {
          "base_uri": "https://localhost:8080/"
        },
        "id": "f4c2ab5f-c678-454b-8ef1-6f050ca3844c",
        "outputId": "674922d6-0743-457e-b90e-84e1210d1ac7"
      },
      "outputs": [
        {
          "output_type": "stream",
          "name": "stdout",
          "text": [
            "*\n",
            "**\n",
            "***\n",
            "****\n",
            "*****\n",
            "******\n"
          ]
        }
      ],
      "source": [
        "#my_solution\n",
        "\n",
        "for i in range(1,n+1):\n",
        "    print(\"*\"*i)"
      ]
    },
    {
      "cell_type": "code",
      "execution_count": null,
      "id": "93880fe9-c1e9-4400-a488-ee91d2e375a9",
      "metadata": {
        "id": "93880fe9-c1e9-4400-a488-ee91d2e375a9",
        "outputId": "0f86188b-dcee-433f-cab7-d1d3ce824c7c"
      },
      "outputs": [
        {
          "name": "stdout",
          "output_type": "stream",
          "text": [
            "*\n",
            "**\n",
            "***\n",
            "****\n"
          ]
        }
      ],
      "source": [
        "#Solution\n",
        "n = 4\n",
        "for i in range(1, n+1):\n",
        "    print(\"*\" * i)\n"
      ]
    },
    {
      "cell_type": "markdown",
      "id": "0cd281e4-0307-4465-af16-d4902d4bd8c7",
      "metadata": {
        "id": "0cd281e4-0307-4465-af16-d4902d4bd8c7"
      },
      "source": [
        "**Question 2: Inverted Star Triangle**"
      ]
    },
    {
      "cell_type": "code",
      "execution_count": null,
      "id": "24d4b871-366a-4a0d-963c-488b9a4f0f48",
      "metadata": {
        "id": "24d4b871-366a-4a0d-963c-488b9a4f0f48"
      },
      "outputs": [],
      "source": [
        "n = 5"
      ]
    },
    {
      "cell_type": "raw",
      "id": "16d1c420-c90b-4fef-baee-dcb3ba8c3670",
      "metadata": {
        "id": "16d1c420-c90b-4fef-baee-dcb3ba8c3670"
      },
      "source": [
        "*****\n",
        "****\n",
        "***\n",
        "**\n",
        "*"
      ]
    },
    {
      "cell_type": "code",
      "execution_count": null,
      "id": "b8cf5112-4646-4dfa-96d7-3e0eec567f7b",
      "metadata": {
        "id": "b8cf5112-4646-4dfa-96d7-3e0eec567f7b",
        "outputId": "df940ad2-065b-4948-c4e4-a48674e4f79a"
      },
      "outputs": [
        {
          "name": "stdout",
          "output_type": "stream",
          "text": [
            "*****\n",
            "****\n",
            "***\n",
            "**\n",
            "*\n"
          ]
        }
      ],
      "source": [
        "#my_solution\n",
        "\n",
        "for i in range(n,0,-1):\n",
        "    print(\"*\"*i)"
      ]
    },
    {
      "cell_type": "code",
      "execution_count": null,
      "id": "019d15f2-2c04-47e1-81f8-18da2bafc40f",
      "metadata": {
        "id": "019d15f2-2c04-47e1-81f8-18da2bafc40f",
        "outputId": "34451390-07c2-418b-e494-0ec224078989"
      },
      "outputs": [
        {
          "name": "stdout",
          "output_type": "stream",
          "text": [
            "*****\n",
            "****\n",
            "***\n",
            "**\n",
            "*\n"
          ]
        }
      ],
      "source": [
        "#Solution\n",
        "n = 5\n",
        "for i in range(n, 0, -1):\n",
        "    print(\"*\" * i)\n"
      ]
    },
    {
      "cell_type": "markdown",
      "id": "97b2928f-3b63-4cfc-8890-30573eb94384",
      "metadata": {
        "id": "97b2928f-3b63-4cfc-8890-30573eb94384"
      },
      "source": [
        "**Question 3: Number Triangle**"
      ]
    },
    {
      "cell_type": "code",
      "execution_count": null,
      "id": "e0ea0a28-ef03-4ebc-90bd-9a011797eb84",
      "metadata": {
        "id": "e0ea0a28-ef03-4ebc-90bd-9a011797eb84"
      },
      "outputs": [],
      "source": [
        "n = 4"
      ]
    },
    {
      "cell_type": "raw",
      "id": "c7cbe173-4918-4456-8a07-4a01ea0c244f",
      "metadata": {
        "id": "c7cbe173-4918-4456-8a07-4a01ea0c244f"
      },
      "source": [
        "1\n",
        "12\n",
        "123\n",
        "1234"
      ]
    },
    {
      "cell_type": "code",
      "execution_count": null,
      "id": "d552ee93-5ddb-4a4f-9e34-ee66260587eb",
      "metadata": {
        "id": "d552ee93-5ddb-4a4f-9e34-ee66260587eb",
        "outputId": "ff35cec7-cc00-4dd3-9e3b-d0494d0a0b02"
      },
      "outputs": [
        {
          "name": "stdout",
          "output_type": "stream",
          "text": [
            "1\n",
            "12\n",
            "123\n",
            "1234\n"
          ]
        }
      ],
      "source": [
        "#my_solution\n",
        "\n",
        "for i in range(1,n+1):\n",
        "    for j in range(1,i+1):\n",
        "        print(j,end='')\n",
        "    print()"
      ]
    },
    {
      "cell_type": "code",
      "execution_count": null,
      "id": "07f09eca-eb1d-4d5b-8457-bac1ea0a9ed4",
      "metadata": {
        "id": "07f09eca-eb1d-4d5b-8457-bac1ea0a9ed4",
        "outputId": "3ffa8da1-ae9a-4b0b-f7f1-8ae58ab3c027"
      },
      "outputs": [
        {
          "name": "stdout",
          "output_type": "stream",
          "text": [
            "1\n",
            "12\n",
            "123\n",
            "1234\n"
          ]
        }
      ],
      "source": [
        "n = 4\n",
        "for i in range(1, n+1):\n",
        "    for j in range(1, i+1):\n",
        "        print(j, end=\"\")\n",
        "    print()"
      ]
    },
    {
      "cell_type": "markdown",
      "id": "d0d2df5c-d826-4d2d-82e7-5234c05ca489",
      "metadata": {
        "id": "d0d2df5c-d826-4d2d-82e7-5234c05ca489"
      },
      "source": [
        "**Question 4:Right-Aligned Triangle**"
      ]
    },
    {
      "cell_type": "code",
      "execution_count": null,
      "id": "440bde8d-7e7c-466d-ac6f-a2987aab5954",
      "metadata": {
        "id": "440bde8d-7e7c-466d-ac6f-a2987aab5954"
      },
      "outputs": [],
      "source": [
        "n = 5"
      ]
    },
    {
      "cell_type": "raw",
      "id": "fed7f39a-2b8c-442d-a3bf-ee5d509af334",
      "metadata": {
        "id": "fed7f39a-2b8c-442d-a3bf-ee5d509af334"
      },
      "source": [
        "    *\n",
        "   **\n",
        "  ***\n",
        " ****\n",
        "*****"
      ]
    },
    {
      "cell_type": "code",
      "execution_count": null,
      "id": "3035c752-d1a7-4ef8-81f3-f37d89f53c86",
      "metadata": {
        "id": "3035c752-d1a7-4ef8-81f3-f37d89f53c86",
        "outputId": "51242784-0176-41c3-ed7c-0cc872c6b537"
      },
      "outputs": [
        {
          "name": "stdout",
          "output_type": "stream",
          "text": [
            "    *\n",
            "   **\n",
            "  ***\n",
            " ****\n",
            "*****\n"
          ]
        }
      ],
      "source": [
        "#my_solution\n",
        "\n",
        "for i in range(1,n+1):\n",
        "    print(' '*(n-i) + '*'*i)"
      ]
    },
    {
      "cell_type": "code",
      "execution_count": null,
      "id": "5782d9ac-825f-4aad-b10c-089191f9042c",
      "metadata": {
        "id": "5782d9ac-825f-4aad-b10c-089191f9042c",
        "outputId": "2233ff68-6182-4b05-c738-00a87ae113d5"
      },
      "outputs": [
        {
          "name": "stdout",
          "output_type": "stream",
          "text": [
            "    *\n",
            "   **\n",
            "  ***\n",
            " ****\n",
            "*****\n"
          ]
        }
      ],
      "source": [
        "n = 5\n",
        "for i in range(1, n+1):\n",
        "    print(\" \" * (n - i) + \"*\" * i)"
      ]
    },
    {
      "cell_type": "markdown",
      "id": "ad201126-5b10-4d80-b3c3-c3474baa0991",
      "metadata": {
        "id": "ad201126-5b10-4d80-b3c3-c3474baa0991"
      },
      "source": [
        "**Question 5: Increasing Letters**"
      ]
    },
    {
      "cell_type": "code",
      "execution_count": null,
      "id": "15ad7005-66fe-4202-a38d-635dfe9a29e2",
      "metadata": {
        "id": "15ad7005-66fe-4202-a38d-635dfe9a29e2"
      },
      "outputs": [],
      "source": [
        "n = 4"
      ]
    },
    {
      "cell_type": "raw",
      "id": "1d27715b-56f6-41b9-b22e-025e5e435ae7",
      "metadata": {
        "id": "1d27715b-56f6-41b9-b22e-025e5e435ae7"
      },
      "source": [
        "A\n",
        "AB\n",
        "ABC\n",
        "ABCD"
      ]
    },
    {
      "cell_type": "code",
      "execution_count": null,
      "id": "9d12601a-873b-4806-bb82-b8d6353df37b",
      "metadata": {
        "id": "9d12601a-873b-4806-bb82-b8d6353df37b",
        "outputId": "09e66be8-3edb-4607-974f-e672cb438a74"
      },
      "outputs": [
        {
          "name": "stdout",
          "output_type": "stream",
          "text": [
            "A\n",
            "AB\n",
            "ABC\n",
            "ABCD\n"
          ]
        }
      ],
      "source": [
        "#my_solution\n",
        "\n",
        "for i in range(1,n+1):\n",
        "    for j in range(i):\n",
        "        print(chr(65+j),end=\"\")\n",
        "    print()"
      ]
    },
    {
      "cell_type": "code",
      "execution_count": null,
      "id": "9ed7734b-5448-4c97-baab-ffc3e5a64eaa",
      "metadata": {
        "id": "9ed7734b-5448-4c97-baab-ffc3e5a64eaa",
        "outputId": "11b51e2d-f02a-4aea-fce4-909b5b2241c8"
      },
      "outputs": [
        {
          "name": "stdout",
          "output_type": "stream",
          "text": [
            "A\n",
            "AB\n",
            "ABC\n",
            "ABCD\n"
          ]
        }
      ],
      "source": [
        "n = 4\n",
        "for i in range(1, n+1):\n",
        "    for j in range(i):\n",
        "        print(chr(65 + j), end=\"\")\n",
        "    print()"
      ]
    },
    {
      "cell_type": "markdown",
      "id": "08da7b2d-0d1f-47fd-aae2-1d15adef8fb2",
      "metadata": {
        "id": "08da7b2d-0d1f-47fd-aae2-1d15adef8fb2"
      },
      "source": [
        "**Question 6: Numbers Repeated by Row**"
      ]
    },
    {
      "cell_type": "code",
      "execution_count": null,
      "id": "3468f931-9e1c-434e-b871-7c0d36e55f47",
      "metadata": {
        "id": "3468f931-9e1c-434e-b871-7c0d36e55f47"
      },
      "outputs": [],
      "source": [
        "n = 5"
      ]
    },
    {
      "cell_type": "raw",
      "id": "b885ffc6-25aa-433e-ad6d-858512585791",
      "metadata": {
        "id": "b885ffc6-25aa-433e-ad6d-858512585791"
      },
      "source": [
        "1\n",
        "22\n",
        "333\n",
        "4444\n",
        "55555"
      ]
    },
    {
      "cell_type": "code",
      "execution_count": null,
      "id": "784426e3-2e6e-426d-9f25-bc62bd3487b9",
      "metadata": {
        "id": "784426e3-2e6e-426d-9f25-bc62bd3487b9",
        "outputId": "509d56dc-d811-41be-b2be-2447dbfe73ec"
      },
      "outputs": [
        {
          "name": "stdout",
          "output_type": "stream",
          "text": [
            "1\n",
            "22\n",
            "333\n",
            "4444\n",
            "55555\n"
          ]
        }
      ],
      "source": [
        "#my_solution\n",
        "\n",
        "for i in range(1,n+1):\n",
        "    print(str(i)*i)"
      ]
    },
    {
      "cell_type": "code",
      "execution_count": null,
      "id": "206cd85a-fa6d-48d5-819c-44efe6c17f3b",
      "metadata": {
        "id": "206cd85a-fa6d-48d5-819c-44efe6c17f3b",
        "outputId": "3264c72f-f853-4088-83ff-4553fbdb93a2"
      },
      "outputs": [
        {
          "name": "stdout",
          "output_type": "stream",
          "text": [
            "1\n",
            "22\n",
            "333\n",
            "4444\n",
            "55555\n"
          ]
        }
      ],
      "source": [
        "n = 5\n",
        "for i in range(1, n+1):\n",
        "    print(str(i) * i)"
      ]
    },
    {
      "cell_type": "markdown",
      "id": "2bf94936-ecf7-499b-bea5-74ed2d0cef1b",
      "metadata": {
        "id": "2bf94936-ecf7-499b-bea5-74ed2d0cef1b"
      },
      "source": [
        "**Question 7: Alternating 1s and 0s**"
      ]
    },
    {
      "cell_type": "code",
      "execution_count": null,
      "id": "0a9bf9f1-8fcb-4a1d-9e24-ebf69c2538b6",
      "metadata": {
        "id": "0a9bf9f1-8fcb-4a1d-9e24-ebf69c2538b6"
      },
      "outputs": [],
      "source": [
        "n = 4"
      ]
    },
    {
      "cell_type": "raw",
      "id": "76599d73-b9cc-488d-bc7c-e7a06ebff6a5",
      "metadata": {
        "id": "76599d73-b9cc-488d-bc7c-e7a06ebff6a5"
      },
      "source": [
        "1\n",
        "01\n",
        "101\n",
        "0101"
      ]
    },
    {
      "cell_type": "code",
      "execution_count": null,
      "id": "0afaded1-6594-4b6e-bda7-af3ec92abc8f",
      "metadata": {
        "id": "0afaded1-6594-4b6e-bda7-af3ec92abc8f",
        "outputId": "60b7dee4-a45a-4416-defa-a1a86f15d912"
      },
      "outputs": [
        {
          "name": "stdout",
          "output_type": "stream",
          "text": [
            "0 \n",
            "1 0 \n",
            "0 1 0 \n",
            "1 0 1 0 \n"
          ]
        }
      ],
      "source": [
        "#my_solution\n",
        "\n",
        "for i in range(1,n+1):\n",
        "    for j in range(1,i+1):\n",
        "        print((i+j)%2,end=\" \")\n",
        "    print()"
      ]
    },
    {
      "cell_type": "code",
      "execution_count": null,
      "id": "7aa046cd-8615-4f73-bcf0-75cd702a26d6",
      "metadata": {
        "id": "7aa046cd-8615-4f73-bcf0-75cd702a26d6",
        "outputId": "a2291607-8b8a-436b-ba23-39f8cb9ececc"
      },
      "outputs": [
        {
          "name": "stdout",
          "output_type": "stream",
          "text": [
            "0\n",
            "10\n",
            "010\n",
            "1010\n",
            "01010\n",
            "101010\n"
          ]
        }
      ],
      "source": [
        "n = 6\n",
        "for i in range(1, n+1):\n",
        "    for j in range(1, i+1):\n",
        "        print((i + j) % 2, end=\"\")\n",
        "    print()\n"
      ]
    },
    {
      "cell_type": "markdown",
      "id": "e49a56e1-8405-4752-88a5-1d64f076a756",
      "metadata": {
        "id": "e49a56e1-8405-4752-88a5-1d64f076a756"
      },
      "source": [
        "# Assignment"
      ]
    },
    {
      "cell_type": "markdown",
      "id": "15844dff-b6eb-4e97-8e18-ca4582ea98bc",
      "metadata": {
        "id": "15844dff-b6eb-4e97-8e18-ca4582ea98bc"
      },
      "source": [
        "**Assignment 1: Centered Star Pyramid**"
      ]
    },
    {
      "cell_type": "code",
      "execution_count": null,
      "id": "5e251b30-c999-4c9f-b591-152542bd2c6f",
      "metadata": {
        "id": "5e251b30-c999-4c9f-b591-152542bd2c6f"
      },
      "outputs": [],
      "source": [
        "n = 4"
      ]
    },
    {
      "cell_type": "raw",
      "id": "61e3f012-7156-4a70-af84-9c4c2ee848fd",
      "metadata": {
        "id": "61e3f012-7156-4a70-af84-9c4c2ee848fd"
      },
      "source": [
        "   *\n",
        "  ***\n",
        " *****\n",
        "*******\n"
      ]
    },
    {
      "cell_type": "code",
      "execution_count": null,
      "id": "670dff3b-c696-4fac-87e2-eba48962f5ad",
      "metadata": {
        "id": "670dff3b-c696-4fac-87e2-eba48962f5ad",
        "outputId": "838bf1ec-0c22-4077-d206-2898fdcd4ff7"
      },
      "outputs": [
        {
          "name": "stdout",
          "output_type": "stream",
          "text": [
            "   *\n",
            "  ***\n",
            " *****\n",
            "*******\n"
          ]
        }
      ],
      "source": [
        "#my_solution\n",
        "\n",
        "for i in range(1,n+1):\n",
        "    print(\" \"*(n-i)+\"*\"*((i*2)-1))"
      ]
    },
    {
      "cell_type": "code",
      "execution_count": null,
      "id": "0bacc7a1-e20d-448c-a090-e7ad947218ca",
      "metadata": {
        "id": "0bacc7a1-e20d-448c-a090-e7ad947218ca",
        "outputId": "4e55d04a-948a-491b-9b19-b90574c2b633"
      },
      "outputs": [
        {
          "name": "stdout",
          "output_type": "stream",
          "text": [
            "   *\n",
            "  ***\n",
            " *****\n",
            "*******\n"
          ]
        }
      ],
      "source": [
        "n = 4\n",
        "for i in range(1, n+1):\n",
        "    print(\" \" * (n - i) + \"*\" * (2*i - 1))"
      ]
    },
    {
      "cell_type": "markdown",
      "id": "fb2005c0-f132-4ddb-bc4a-e95fece3ff71",
      "metadata": {
        "id": "fb2005c0-f132-4ddb-bc4a-e95fece3ff71"
      },
      "source": [
        "**Assignment 2: Hollow Rectangle**"
      ]
    },
    {
      "cell_type": "markdown",
      "id": "c1ceeb7d-d4c0-443d-9262-ab71295d875b",
      "metadata": {
        "id": "c1ceeb7d-d4c0-443d-9262-ab71295d875b"
      },
      "source": [
        "rows = 4, cols = 5"
      ]
    },
    {
      "cell_type": "raw",
      "id": "b47fdf4a-5a65-4a24-acbd-c6df99d4001e",
      "metadata": {
        "id": "b47fdf4a-5a65-4a24-acbd-c6df99d4001e"
      },
      "source": [
        "*****\n",
        "*   *\n",
        "*   *\n",
        "*****\n"
      ]
    },
    {
      "cell_type": "code",
      "execution_count": null,
      "id": "9b8fdc31-97d5-48bf-bdc2-495766946958",
      "metadata": {
        "id": "9b8fdc31-97d5-48bf-bdc2-495766946958",
        "outputId": "40c1b51a-58c4-4503-f8ed-c0dd591e0e58"
      },
      "outputs": [
        {
          "name": "stdout",
          "output_type": "stream",
          "text": [
            "*****\n",
            "*   *\n",
            "*   *\n",
            "*****\n"
          ]
        }
      ],
      "source": [
        "#my_solution\n",
        "\n",
        "r=4\n",
        "c=5\n",
        "for i in range(1,r+1):\n",
        "    for j in range(1,c+1):\n",
        "        if i==1 or i==r or j==1 or j==c:\n",
        "            print(\"*\",end=\"\")\n",
        "        else:\n",
        "            print(\" \",end=\"\")\n",
        "    print()"
      ]
    },
    {
      "cell_type": "code",
      "execution_count": null,
      "id": "371f59d1-5240-4c3c-854b-52c2ebf76ff3",
      "metadata": {
        "id": "371f59d1-5240-4c3c-854b-52c2ebf76ff3",
        "outputId": "800355a6-89d5-49b4-ce15-4e8c805b15e3"
      },
      "outputs": [
        {
          "name": "stdout",
          "output_type": "stream",
          "text": [
            "*****\n",
            "*   *\n",
            "*   *\n",
            "*****\n"
          ]
        }
      ],
      "source": [
        "rows = 4\n",
        "cols = 5\n",
        "for i in range(rows):\n",
        "    for j in range(cols):\n",
        "        if i == 0 or i == rows - 1 or j == 0 or j == cols - 1:\n",
        "            print(\"*\", end=\"\")\n",
        "        else:\n",
        "            print(\" \", end=\"\")\n",
        "    print()\n"
      ]
    },
    {
      "cell_type": "markdown",
      "id": "bb0a8550-66eb-4068-a2ae-08c320da3bd6",
      "metadata": {
        "id": "bb0a8550-66eb-4068-a2ae-08c320da3bd6"
      },
      "source": [
        "**Assignment 3: Diamond Pattern**"
      ]
    },
    {
      "cell_type": "code",
      "execution_count": null,
      "id": "a42a0c04-32e8-4e7c-bfbc-142971c17a07",
      "metadata": {
        "id": "a42a0c04-32e8-4e7c-bfbc-142971c17a07"
      },
      "outputs": [],
      "source": [
        "n = 3"
      ]
    },
    {
      "cell_type": "raw",
      "id": "8648fd1c-4142-4b1c-99d2-db67661603ae",
      "metadata": {
        "id": "8648fd1c-4142-4b1c-99d2-db67661603ae"
      },
      "source": [
        "  *\n",
        " ***\n",
        "*****\n",
        " ***\n",
        "  *"
      ]
    },
    {
      "cell_type": "code",
      "execution_count": null,
      "id": "b5336cc3-2ded-4751-8159-7f675c3babb5",
      "metadata": {
        "id": "b5336cc3-2ded-4751-8159-7f675c3babb5",
        "outputId": "6f3e3191-6f0c-4168-fb1f-b35b027eaf3c"
      },
      "outputs": [
        {
          "name": "stdout",
          "output_type": "stream",
          "text": [
            "  *\n",
            " ***\n",
            "*****\n",
            " ***\n",
            "  *\n"
          ]
        }
      ],
      "source": [
        "#my_solution\n",
        "\n",
        "for i in range(1,n+1):\n",
        "    print(\" \"*(n-i)+\"*\"*((i*2)-1))\n",
        "for j in range(n-1,0,-1):\n",
        "    print(\" \"*(n-j)+\"*\"*((j*2)-1))"
      ]
    },
    {
      "cell_type": "code",
      "execution_count": null,
      "id": "7d67abe0-6819-4b45-991b-998fcad3ca5f",
      "metadata": {
        "id": "7d67abe0-6819-4b45-991b-998fcad3ca5f",
        "outputId": "4dafd5d6-88d8-4680-a236-6e0cc98a87d5"
      },
      "outputs": [
        {
          "name": "stdout",
          "output_type": "stream",
          "text": [
            "  *\n",
            " ***\n",
            "*****\n",
            " ***\n",
            "  *\n"
          ]
        }
      ],
      "source": [
        "n = 3\n",
        "for i in range(1, n+1):\n",
        "    print(\" \" * (n - i) + \"*\" * (2*i - 1))\n",
        "for i in range(n-1, 0, -1):\n",
        "    print(\" \" * (n - i) + \"*\" * (2*i - 1))\n"
      ]
    },
    {
      "cell_type": "markdown",
      "id": "b15f2692-8290-4db9-a07d-fc1e66892042",
      "metadata": {
        "id": "b15f2692-8290-4db9-a07d-fc1e66892042"
      },
      "source": [
        "**Assignment 4: Floyd's Triangle**"
      ]
    },
    {
      "cell_type": "code",
      "execution_count": null,
      "id": "b90a5021-019d-41c1-b559-0d256f530677",
      "metadata": {
        "id": "b90a5021-019d-41c1-b559-0d256f530677"
      },
      "outputs": [],
      "source": [
        "n = 4"
      ]
    },
    {
      "cell_type": "raw",
      "id": "c9da5cf9-eac2-4c3e-beb8-b54c8f791034",
      "metadata": {
        "id": "c9da5cf9-eac2-4c3e-beb8-b54c8f791034"
      },
      "source": [
        "1\n",
        "2 3\n",
        "4 5 6\n",
        "7 8 9 10"
      ]
    },
    {
      "cell_type": "code",
      "execution_count": null,
      "id": "f4d7484b-7378-471c-a09d-ccd6913068af",
      "metadata": {
        "id": "f4d7484b-7378-471c-a09d-ccd6913068af",
        "outputId": "fdec211b-e860-4ac7-e0e1-b945386db95c"
      },
      "outputs": [
        {
          "name": "stdout",
          "output_type": "stream",
          "text": [
            "1 \n",
            "2 3 \n",
            "4 5 6 \n",
            "7 8 9 10 \n"
          ]
        }
      ],
      "source": [
        "#my_solution\n",
        "\n",
        "count=1\n",
        "for i in range(1,n+1):\n",
        "    for j in range(1,i+1):\n",
        "        print(count,end=\" \")\n",
        "        count+=1\n",
        "    print()"
      ]
    },
    {
      "cell_type": "code",
      "execution_count": null,
      "id": "868fdbdf-5f80-42db-85be-4aa5b013086d",
      "metadata": {
        "id": "868fdbdf-5f80-42db-85be-4aa5b013086d",
        "outputId": "2719710a-372d-455e-d2d3-b027c3eb91bc"
      },
      "outputs": [
        {
          "name": "stdout",
          "output_type": "stream",
          "text": [
            "1 \n",
            "2 3 \n",
            "4 5 6 \n",
            "7 8 9 10 \n"
          ]
        }
      ],
      "source": [
        "n = 4\n",
        "num = 1\n",
        "for i in range(1, n+1):\n",
        "    for j in range(i):\n",
        "        print(num, end=\" \")\n",
        "        num += 1\n",
        "    print()\n"
      ]
    }
  ],
  "metadata": {
    "colab": {
      "provenance": []
    },
    "kernelspec": {
      "display_name": "base",
      "language": "python",
      "name": "python3"
    },
    "language_info": {
      "codemirror_mode": {
        "name": "ipython",
        "version": 3
      },
      "file_extension": ".py",
      "mimetype": "text/x-python",
      "name": "python",
      "nbconvert_exporter": "python",
      "pygments_lexer": "ipython3",
      "version": "3.12.7"
    }
  },
  "nbformat": 4,
  "nbformat_minor": 5
}